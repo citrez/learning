{
 "cells": [
  {
   "cell_type": "markdown",
   "id": "dafc3b76",
   "metadata": {},
   "source": [
    "### Recursive Factorial Implementation"
   ]
  },
  {
   "cell_type": "code",
   "execution_count": 23,
   "id": "2b3633a4",
   "metadata": {},
   "outputs": [],
   "source": [
    " \n",
    "def factorial(n):\n",
    "    #recursive\n",
    "    if n == 0:\n",
    "        return 1\n",
    "    else:\n",
    "        return n * factorial(n-1)\n",
    "\n",
    " \n",
    "def factorial_2(n):\n",
    "    # non recursive\n",
    "    res = 1\n",
    "    for i in range(1,n+1):\n",
    "        res = res * i\n",
    "    return res\n",
    "        "
   ]
  },
  {
   "cell_type": "code",
   "execution_count": 25,
   "id": "4aa24c56",
   "metadata": {},
   "outputs": [
    {
     "name": "stdout",
     "output_type": "stream",
     "text": [
      "3628800\n",
      "3628800\n"
     ]
    }
   ],
   "source": [
    "print(factorial(10))\n",
    "print(factorial_2(10))"
   ]
  },
  {
   "cell_type": "code",
   "execution_count": 14,
   "id": "f8452674",
   "metadata": {},
   "outputs": [
    {
     "name": "stdout",
     "output_type": "stream",
     "text": [
      "1.3 µs ± 29.1 ns per loop (mean ± std. dev. of 7 runs, 1000000 loops each)\n"
     ]
    }
   ],
   "source": [
    "%%timeit\n",
    "factorial(10)"
   ]
  },
  {
   "cell_type": "code",
   "execution_count": 20,
   "id": "66b3d971",
   "metadata": {},
   "outputs": [
    {
     "name": "stdout",
     "output_type": "stream",
     "text": [
      "585 ns ± 17 ns per loop (mean ± std. dev. of 7 runs, 1000000 loops each)\n"
     ]
    }
   ],
   "source": [
    "%%timeit\n",
    "factorial_2(10)"
   ]
  }
 ],
 "metadata": {
  "kernelspec": {
   "display_name": "Python 3 (ipykernel)",
   "language": "python",
   "name": "python3"
  },
  "language_info": {
   "codemirror_mode": {
    "name": "ipython",
    "version": 3
   },
   "file_extension": ".py",
   "mimetype": "text/x-python",
   "name": "python",
   "nbconvert_exporter": "python",
   "pygments_lexer": "ipython3",
   "version": "3.9.2"
  }
 },
 "nbformat": 4,
 "nbformat_minor": 5
}
