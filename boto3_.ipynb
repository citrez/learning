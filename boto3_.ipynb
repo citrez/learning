{
 "cells": [
  {
   "cell_type": "code",
   "execution_count": null,
   "metadata": {},
   "outputs": [],
   "source": [
    "import boto3\n",
    "s3_client = boto3.client('s3')\n",
    "s3_resource = boto3.resource('s3')\n",
    "for bucket in s3_resource.buckets.all():\n",
    "    print(bucket.name)\n",
    "\n",
    "s3_resource = boto3.resource('s3')\n",
    "for bucket in s3_resource.buckets.all():\n",
    "    print(bucket.name)\n",
    "mybucket = s3_resource.Bucket('test-bucket31')\n",
    "for my_bucket_object in mybucket.objects.all():\n",
    "    print(my_bucket_object)\n",
    "s3_resource.Object('test-bucket31', 'wage.csv').download_file(\n",
    "    f\"tmp/{'wage.csv'}\") # Python 3.6+s3_resource"
   ]
  }
 ],
 "metadata": {
  "language_info": {
   "name": "python"
  },
  "orig_nbformat": 4
 },
 "nbformat": 4,
 "nbformat_minor": 2
}
