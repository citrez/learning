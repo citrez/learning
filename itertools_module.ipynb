{
 "cells": [
  {
   "cell_type": "code",
   "execution_count": 27,
   "id": "57be206b",
   "metadata": {},
   "outputs": [],
   "source": [
    "#iterators are data types that can be used in a for loop\n",
    "from itertools import product, permutations,combinations, groupby,count\n"
   ]
  },
  {
   "cell_type": "code",
   "execution_count": 17,
   "id": "b8bd8fc2",
   "metadata": {},
   "outputs": [
    {
     "data": {
      "text/plain": [
       "[(1, 2), (1, 3), (2, 3)]"
      ]
     },
     "execution_count": 17,
     "metadata": {},
     "output_type": "execute_result"
    }
   ],
   "source": [
    "list_1 = [1,2,3]\n",
    "list_2 = [6,7]\n",
    "list(permutations(list_1)) # the different orderings\n",
    "list(combinations(list_1,2))"
   ]
  },
  {
   "cell_type": "code",
   "execution_count": 30,
   "id": "e9397fb8",
   "metadata": {},
   "outputs": [
    {
     "name": "stdout",
     "output_type": "stream",
     "text": [
      "True [1, 2]\n",
      "False [3, 4, 5, 6]\n"
     ]
    }
   ],
   "source": [
    "my_groups = groupby([1,2,3,4,5,6],key=lambda x: x<3)\n",
    "for key, value in my_groups:\n",
    "    print(key,list(value))"
   ]
  }
 ],
 "metadata": {
  "kernelspec": {
   "display_name": "Python 3",
   "language": "python",
   "name": "python3"
  },
  "language_info": {
   "codemirror_mode": {
    "name": "ipython",
    "version": 3
   },
   "file_extension": ".py",
   "mimetype": "text/x-python",
   "name": "python",
   "nbconvert_exporter": "python",
   "pygments_lexer": "ipython3",
   "version": "3.8.8"
  }
 },
 "nbformat": 4,
 "nbformat_minor": 5
}
