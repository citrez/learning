{
 "cells": [
  {
   "cell_type": "markdown",
   "id": "9714f8d1",
   "metadata": {},
   "source": [
    "### Decorators\n",
    "a decorator is a function that takes another function as its argument and extends the capabilities of this function without explicitly modifying it. \n",
    "\n",
    "In python functions are first class objects, meaning, they can be defined in other functions, passed to other functions and returned by other functions"
   ]
  },
  {
   "cell_type": "code",
   "execution_count": 19,
   "id": "5e678a49",
   "metadata": {},
   "outputs": [],
   "source": [
    "def my_decorator(func):\n",
    "    \n",
    "    def wrapper(*arg):\n",
    "        print(\"i am starting now\")\n",
    "        result = func(*arg)\n",
    "        print('I am finishing now')\n",
    "        return(result)\n",
    "    \n",
    "    return(wrapper)"
   ]
  },
  {
   "cell_type": "markdown",
   "id": "86937376",
   "metadata": {},
   "source": [
    "So here, we "
   ]
  },
  {
   "cell_type": "code",
   "execution_count": 20,
   "id": "b44ce9dc",
   "metadata": {},
   "outputs": [
    {
     "name": "stdout",
     "output_type": "stream",
     "text": [
      "i am starting now\n",
      "I am finishing now\n"
     ]
    },
    {
     "data": {
      "text/plain": [
       "<function __main__.my_decorator.<locals>.wrapper(*arg)>"
      ]
     },
     "execution_count": 20,
     "metadata": {},
     "output_type": "execute_result"
    }
   ],
   "source": [
    "my_decorator( add_three(3) )"
   ]
  },
  {
   "cell_type": "code",
   "execution_count": 7,
   "id": "b22b42f5",
   "metadata": {},
   "outputs": [
    {
     "name": "stdout",
     "output_type": "stream",
     "text": [
      "i am starting now\n",
      "I am finishing now\n"
     ]
    }
   ],
   "source": [
    "@my_decorator\n",
    "def add_three(x):\n",
    "    x + 3\n",
    "add_three(4)"
   ]
  }
 ],
 "metadata": {
  "kernelspec": {
   "display_name": "Python 3 (ipykernel)",
   "language": "python",
   "name": "python3"
  },
  "language_info": {
   "codemirror_mode": {
    "name": "ipython",
    "version": 3
   },
   "file_extension": ".py",
   "mimetype": "text/x-python",
   "name": "python",
   "nbconvert_exporter": "python",
   "pygments_lexer": "ipython3",
   "version": "3.9.2"
  }
 },
 "nbformat": 4,
 "nbformat_minor": 5
}
