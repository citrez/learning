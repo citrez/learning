{
 "cells": [
  {
   "cell_type": "markdown",
   "source": [
    "Level\n",
    "\n",
    "When it’s used\n",
    "\n",
    "DEBUG\n",
    "\n",
    "Detailed information, typically of interest only when diagnosing problems.\n",
    "\n",
    "INFO\n",
    "\n",
    "Confirmation that things are working as expected.\n",
    "\n",
    "WARNING\n",
    "\n",
    "An indication that something unexpected happened, or indicative of some problem in the near future (e.g. ‘disk space low’). The software is still working as expected.\n",
    "\n",
    "ERROR\n",
    "\n",
    "Due to a more serious problem, the software has not been able to perform some function.\n",
    "\n",
    "CRITICAL\n",
    "\n",
    "A serious error, indicating that the program itself may be unable to continue running.m"
   ],
   "metadata": {}
  },
  {
   "cell_type": "code",
   "execution_count": 17,
   "source": [
    "import logging\n",
    "logging.basicConfig(filename='app.log', filemode='a', format='%(name)s - %(levelname)s - %(message)s')\n",
    "logging.error('something happend')"
   ],
   "outputs": [
    {
     "output_type": "stream",
     "name": "stderr",
     "text": [
      "ERROR:root:something happend\n"
     ]
    }
   ],
   "metadata": {}
  },
  {
   "cell_type": "code",
   "execution_count": 21,
   "source": [
    "import datetime\n"
   ],
   "outputs": [
    {
     "output_type": "execute_result",
     "data": {
      "text/plain": [
       "'2021-11-16 12:41:52.783014'"
      ]
     },
     "metadata": {},
     "execution_count": 21
    }
   ],
   "metadata": {}
  },
  {
   "cell_type": "code",
   "execution_count": null,
   "source": [
    "datetime.datetime.now().__str__()"
   ],
   "outputs": [],
   "metadata": {}
  }
 ],
 "metadata": {
  "kernelspec": {
   "name": "python3",
   "display_name": "Python 3.9.2 64-bit ('env': venv)"
  },
  "language_info": {
   "codemirror_mode": {
    "name": "ipython",
    "version": 3
   },
   "file_extension": ".py",
   "mimetype": "text/x-python",
   "name": "python",
   "nbconvert_exporter": "python",
   "pygments_lexer": "ipython3",
   "version": "3.9.2"
  },
  "interpreter": {
   "hash": "de6e6b01485b248ee70ccfc5a29fd4072859fb59f7c89cb04e9a217f4f03077e"
  }
 },
 "nbformat": 4,
 "nbformat_minor": 5
}