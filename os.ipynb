{
 "cells": [
  {
   "cell_type": "markdown",
   "metadata": {},
   "source": [
    "mainly from [geeks for geeks](https://www.geeksforgeeks.org/os-module-python-examples/)"
   ]
  },
  {
   "cell_type": "code",
   "execution_count": 2,
   "metadata": {},
   "outputs": [],
   "source": [
    "import os"
   ]
  },
  {
   "cell_type": "code",
   "execution_count": 3,
   "metadata": {},
   "outputs": [
    {
     "name": "stdout",
     "output_type": "stream",
     "text": [
      "Currrent working dir is: /Users/ezracitron/my_projects/learning\n"
     ]
    }
   ],
   "source": [
    "cwd = os.getcwd() #not pwd\n",
    "print(f\"Currrent working dir is: {cwd}\")\n",
    "# use os.chdir() to change "
   ]
  },
  {
   "cell_type": "code",
   "execution_count": 4,
   "metadata": {},
   "outputs": [],
   "source": [
    "os.mkdir('test')\n",
    "#os.makedirs() method in Python is used to \n",
    "# create a directory recursively. \n",
    "# That means while making leaf directory if any intermediate-level \n",
    "# directory is missing, os.makedirs() method will create them all.\n",
    "\n",
    "#os.makedirs()"
   ]
  },
  {
   "cell_type": "code",
   "execution_count": 5,
   "metadata": {},
   "outputs": [
    {
     "data": {
      "text/plain": [
       "['appleforth',\n",
       " 'auto_IG',\n",
       " 'easy_wordle',\n",
       " '.DS_Store',\n",
       " 'kaggle',\n",
       " 'rando',\n",
       " 'citronpsych4',\n",
       " 'qalias',\n",
       " 'learning',\n",
       " 'website4',\n",
       " 'autoPoker',\n",
       " 'project-euler',\n",
       " 'OpenB',\n",
       " 'todo-CLI',\n",
       " 'DEL_Everything-I-Know',\n",
       " '.venv',\n",
       " 'experimental_python',\n",
       " 'ISL',\n",
       " 'cv']"
      ]
     },
     "execution_count": 5,
     "metadata": {},
     "output_type": "execute_result"
    }
   ],
   "source": [
    "# lists all files and dirs\n",
    "os.listdir('..')"
   ]
  },
  {
   "cell_type": "code",
   "execution_count": 7,
   "metadata": {},
   "outputs": [],
   "source": [
    "# There are different methods for removing files and dirs in python.\n",
    "\n",
    "# os.remove('test')\n",
    "# os.rmdir('test')"
   ]
  },
  {
   "cell_type": "code",
   "execution_count": 8,
   "metadata": {},
   "outputs": [
    {
     "name": "stdout",
     "output_type": "stream",
     "text": [
      "/Users/ezracitron/my_projects/learning/test.txt\n"
     ]
    }
   ],
   "source": [
    "# \n",
    "cwd = os.getcwd()\n",
    "file  = 'test.txt'\n",
    "path = os.path.join(cwd,file)\n",
    "print(path)"
   ]
  },
  {
   "cell_type": "code",
   "execution_count": 26,
   "metadata": {},
   "outputs": [],
   "source": [
    "# os.rename('os.ipynb','os_test.ipynb')"
   ]
  },
  {
   "cell_type": "code",
   "execution_count": 31,
   "metadata": {},
   "outputs": [
    {
     "data": {
      "text/plain": [
       "True"
      ]
     },
     "execution_count": 31,
     "metadata": {},
     "output_type": "execute_result"
    }
   ],
   "source": [
    "os.path.exists('os.ipynb')"
   ]
  },
  {
   "cell_type": "code",
   "execution_count": 41,
   "metadata": {},
   "outputs": [],
   "source": [
    "# all the files previously started with \"explore_\"\n",
    "\n",
    "# rename_from = [file for file in os.listdir() if file.startswith('explore_')]\n",
    "# rename_to = [file.removeprefix('explore_') for file in rename_from]\n",
    "\n",
    "# for _from, _to in  zip(rename_from,rename_to): # from is a keyword\n",
    "#     os.rename(_from,_to)\n"
   ]
  }
 ],
 "metadata": {
  "interpreter": {
   "hash": "ea7610007a29cb2af1d210f73684a2d87c7bae2e3f27bbd8854949f1d151518b"
  },
  "kernelspec": {
   "display_name": "Python 3.9.2 64-bit ('env': venv)",
   "name": "python3"
  },
  "language_info": {
   "codemirror_mode": {
    "name": "ipython",
    "version": 3
   },
   "file_extension": ".py",
   "mimetype": "text/x-python",
   "name": "python",
   "nbconvert_exporter": "python",
   "pygments_lexer": "ipython3",
   "version": "3.11.1"
  },
  "orig_nbformat": 4
 },
 "nbformat": 4,
 "nbformat_minor": 2
}
