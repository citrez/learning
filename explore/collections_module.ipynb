{
 "cells": [
  {
   "cell_type": "markdown",
   "id": "69464dbd",
   "metadata": {},
   "source": [
    "DESCRIPTION  \n",
    "    This module implements specialized container datatypes providing\n",
    "    alternatives to Python's general purpose built-in containers, dict,\n",
    "    list, set, and tuple.\n",
    "    \n",
    "    * namedtuple   factory function for creating tuple subclasses with named fields\n",
    "    * deque        list-like container with fast appends and pops on either end\n",
    "    * ChainMap     dict-like class for creating a single view of multiple mappings\n",
    "    * Counter      dict subclass for counting hashable objects\n",
    "    * OrderedDict  dict subclass that remembers the order entries were added\n",
    "    * defaultdict  dict subclass that calls a factory function to supply missing values\n",
    "    * UserDict     wrapper around dictionary objects for easier dict subclassing\n",
    "    * UserList     wrapper around list objects for easier list subclassing\n",
    "    * UserString   wrapper around string objects for easier string subclassing\n",
    "(From documentation see `help(collections)` for more)\n",
    "    "
   ]
  },
  {
   "cell_type": "code",
   "execution_count": 3,
   "id": "140dbb59",
   "metadata": {},
   "outputs": [],
   "source": [
    "from collections import Counter, namedtuple, defaultdict"
   ]
  },
  {
   "cell_type": "markdown",
   "id": "21d33e13",
   "metadata": {},
   "source": [
    "#### Counter Class"
   ]
  },
  {
   "cell_type": "code",
   "execution_count": 13,
   "id": "1ab1a7b3",
   "metadata": {},
   "outputs": [
    {
     "name": "stdout",
     "output_type": "stream",
     "text": [
      "Counter({'a': 5, 's': 2, 'd': 2})\n",
      "Counter({3: 2, 2: 2, 4: 2, 'hi': 2, 1: 1, 5: 1, 6: 1})\n"
     ]
    }
   ],
   "source": [
    "#counts any iterable using a dict of values and counts\n",
    "my_counter = Counter('asdasdaaa')\n",
    "my_counter_2 = Counter([1,3,2,4,5,6,4,3,2,'hi','hi'])\n",
    "print(my_counter);\n",
    "print(my_counter_2);"
   ]
  },
  {
   "cell_type": "markdown",
   "id": "8809f8eb",
   "metadata": {},
   "source": [
    "#### defaultdict class"
   ]
  },
  {
   "cell_type": "code",
   "execution_count": 32,
   "id": "336b1026",
   "metadata": {},
   "outputs": [
    {
     "name": "stdout",
     "output_type": "stream",
     "text": [
      "defaultdict(<class 'float'>, {'a': 4, 'b': 't'})\n",
      "4\n",
      "0.0\n"
     ]
    }
   ],
   "source": [
    "my_dict = defaultdict(float,{'a':4,'b':'t'})\n",
    "print(my_dict);\n",
    "print(my_dict['a'])\n",
    "print(my_dict['7']) # when the key isnt present it defaults to a float\n"
   ]
  }
 ],
 "metadata": {
  "kernelspec": {
   "display_name": "Python 3",
   "language": "python",
   "name": "python3"
  },
  "language_info": {
   "codemirror_mode": {
    "name": "ipython",
    "version": 3
   },
   "file_extension": ".py",
   "mimetype": "text/x-python",
   "name": "python",
   "nbconvert_exporter": "python",
   "pygments_lexer": "ipython3",
   "version": "3.8.8"
  }
 },
 "nbformat": 4,
 "nbformat_minor": 5
}
