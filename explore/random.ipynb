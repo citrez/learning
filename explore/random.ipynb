{
 "cells": [
  {
   "cell_type": "markdown",
   "id": "bf597a4f",
   "metadata": {},
   "source": [
    "### Sudo random number generation\n",
    "Set seed with random.seed(1)"
   ]
  },
  {
   "cell_type": "code",
   "execution_count": 1,
   "id": "89d143b5",
   "metadata": {},
   "outputs": [],
   "source": [
    "import random"
   ]
  },
  {
   "cell_type": "code",
   "execution_count": 12,
   "id": "45a0ece7",
   "metadata": {},
   "outputs": [
    {
     "name": "stdout",
     "output_type": "stream",
     "text": [
      "Help on method randint in module random:\n",
      "\n",
      "randint(a, b) method of random.Random instance\n",
      "    Return random integer in range [a, b], including both end points.\n",
      "\n"
     ]
    }
   ],
   "source": [
    "help(random.randint)"
   ]
  },
  {
   "cell_type": "code",
   "execution_count": 15,
   "id": "89b59fde",
   "metadata": {},
   "outputs": [
    {
     "data": {
      "text/plain": [
       "0.9833062728745775"
      ]
     },
     "execution_count": 15,
     "metadata": {},
     "output_type": "execute_result"
    }
   ],
   "source": [
    "random.random() # random float (0,1)"
   ]
  },
  {
   "cell_type": "code",
   "execution_count": 18,
   "id": "54b20d03",
   "metadata": {},
   "outputs": [
    {
     "data": {
      "text/plain": [
       "4.529226249245867"
      ]
     },
     "execution_count": 18,
     "metadata": {},
     "output_type": "execute_result"
    }
   ],
   "source": [
    "random.uniform(0,10) # random float in this range"
   ]
  },
  {
   "cell_type": "code",
   "execution_count": 24,
   "id": "2dc76024",
   "metadata": {},
   "outputs": [
    {
     "data": {
      "text/plain": [
       "1"
      ]
     },
     "execution_count": 24,
     "metadata": {},
     "output_type": "execute_result"
    }
   ],
   "source": [
    "random.randint(0,4) # picks random int in the range"
   ]
  },
  {
   "cell_type": "code",
   "execution_count": 26,
   "id": "2a7ffc2d",
   "metadata": {},
   "outputs": [
    {
     "data": {
      "text/plain": [
       "-0.04780256143037807"
      ]
     },
     "execution_count": 26,
     "metadata": {},
     "output_type": "execute_result"
    }
   ],
   "source": [
    "random.normalvariate(0,1) # normal mean of 0 sd of 1"
   ]
  },
  {
   "cell_type": "code",
   "execution_count": 35,
   "id": "d497ba07",
   "metadata": {},
   "outputs": [
    {
     "data": {
      "text/plain": [
       "'D'"
      ]
     },
     "execution_count": 35,
     "metadata": {},
     "output_type": "execute_result"
    }
   ],
   "source": [
    "my_list = list('ABCDDD') # pick something from a list\n",
    "random.choice(my_list)"
   ]
  },
  {
   "cell_type": "code",
   "execution_count": 38,
   "id": "6030b8df",
   "metadata": {},
   "outputs": [
    {
     "data": {
      "text/plain": [
       "['C', 'D']"
      ]
     },
     "execution_count": 38,
     "metadata": {},
     "output_type": "execute_result"
    }
   ],
   "source": [
    "random.sample(my_list,k=2)"
   ]
  },
  {
   "cell_type": "code",
   "execution_count": 40,
   "id": "e61059cc",
   "metadata": {},
   "outputs": [
    {
     "data": {
      "text/plain": [
       "['C', 'A', 'D']"
      ]
     },
     "execution_count": 40,
     "metadata": {},
     "output_type": "execute_result"
    }
   ],
   "source": [
    "random.choices(my_list,k=3) # can pick elements multiple times"
   ]
  },
  {
   "cell_type": "code",
   "execution_count": 49,
   "id": "2a402590",
   "metadata": {},
   "outputs": [
    {
     "name": "stdout",
     "output_type": "stream",
     "text": [
      "['D', 'B', 'D', 'D', 'A', 'C']\n"
     ]
    }
   ],
   "source": [
    "random.shuffle(my_list)\n",
    "print(my_list)"
   ]
  },
  {
   "cell_type": "markdown",
   "id": "d6db3f82",
   "metadata": {},
   "source": [
    "### We can do random things with numpy arrays as well\n",
    "We can use the random module in the numpy library"
   ]
  },
  {
   "cell_type": "code",
   "execution_count": 50,
   "id": "c7d88611",
   "metadata": {},
   "outputs": [],
   "source": [
    "import numpy as np"
   ]
  },
  {
   "cell_type": "code",
   "execution_count": 61,
   "id": "d0ac257c",
   "metadata": {},
   "outputs": [
    {
     "name": "stdout",
     "output_type": "stream",
     "text": [
      "[0.05850232 0.00157015 0.89397903]\n"
     ]
    }
   ],
   "source": [
    "a = np.random.rand(3)\n",
    "print(a)"
   ]
  },
  {
   "cell_type": "code",
   "execution_count": 62,
   "id": "6ac4c785",
   "metadata": {},
   "outputs": [
    {
     "name": "stdout",
     "output_type": "stream",
     "text": [
      "[[0.29106083 0.41008619]\n",
      " [0.07405839 0.19317328]\n",
      " [0.43344006 0.15161771]]\n"
     ]
    }
   ],
   "source": [
    "a = np.random.rand(3,2)\n",
    "print(a)"
   ]
  },
  {
   "cell_type": "code",
   "execution_count": 64,
   "id": "afdf285f",
   "metadata": {},
   "outputs": [
    {
     "name": "stdout",
     "output_type": "stream",
     "text": [
      "2\n"
     ]
    }
   ],
   "source": [
    "a =np.random.randint(1,10)\n",
    "print(a)"
   ]
  },
  {
   "cell_type": "code",
   "execution_count": 77,
   "id": "73639bca",
   "metadata": {},
   "outputs": [
    {
     "name": "stdout",
     "output_type": "stream",
     "text": [
      "[[8 8]\n",
      " [8 9]\n",
      " [9 9]]\n"
     ]
    }
   ],
   "source": [
    "a =np.random.randint(8,high=10,size=(3,2))\n",
    "print(a)"
   ]
  },
  {
   "cell_type": "code",
   "execution_count": null,
   "id": "bddc7827",
   "metadata": {},
   "outputs": [],
   "source": []
  },
  {
   "cell_type": "code",
   "execution_count": null,
   "id": "3abe3a0c",
   "metadata": {},
   "outputs": [],
   "source": []
  }
 ],
 "metadata": {
  "kernelspec": {
   "display_name": "Python 3 (ipykernel)",
   "language": "python",
   "name": "python3"
  },
  "language_info": {
   "codemirror_mode": {
    "name": "ipython",
    "version": 3
   },
   "file_extension": ".py",
   "mimetype": "text/x-python",
   "name": "python",
   "nbconvert_exporter": "python",
   "pygments_lexer": "ipython3",
   "version": "3.9.2"
  }
 },
 "nbformat": 4,
 "nbformat_minor": 5
}
