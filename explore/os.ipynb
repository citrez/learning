{
 "cells": [
  {
   "cell_type": "markdown",
   "source": [
    "maining from \n",
    "[geeks for geeks](https://www.geeksforgeeks.org/os-module-python-examples/)"
   ],
   "metadata": {}
  },
  {
   "cell_type": "code",
   "execution_count": 1,
   "source": [
    "import os"
   ],
   "outputs": [],
   "metadata": {}
  },
  {
   "cell_type": "code",
   "execution_count": 11,
   "source": [
    "cwd = os.getcwd() #not pwd\n",
    "print(f\"Currrent working dir is: {cwd}\")\n",
    "# use os.chdir() to change "
   ],
   "outputs": [
    {
     "output_type": "stream",
     "name": "stdout",
     "text": [
      "Currrent working dir /Users/ezracitron/Documents/repos/experimental_python/explore\n"
     ]
    }
   ],
   "metadata": {}
  },
  {
   "cell_type": "code",
   "execution_count": 13,
   "source": [
    "os.mkdir('test')\n",
    "#os.makedirs() method in Python is used to \n",
    "# create a directory recursively. \n",
    "# That means while making leaf directory if any intermediate-level \n",
    "# directory is missing, os.makedirs() method will create them all.\n",
    "\n",
    "#os.makedirs()"
   ],
   "outputs": [
    {
     "output_type": "error",
     "ename": "FileExistsError",
     "evalue": "[Errno 17] File exists: 'test'",
     "traceback": [
      "\u001b[0;31m---------------------------------------------------------------------------\u001b[0m",
      "\u001b[0;31mFileExistsError\u001b[0m                           Traceback (most recent call last)",
      "\u001b[0;32m/var/folders/cp/qfwcp52s6m90bwtfn8dkp9zm0000gn/T/ipykernel_9090/3384998396.py\u001b[0m in \u001b[0;36m<module>\u001b[0;34m\u001b[0m\n\u001b[0;32m----> 1\u001b[0;31m \u001b[0mos\u001b[0m\u001b[0;34m.\u001b[0m\u001b[0mmkdir\u001b[0m\u001b[0;34m(\u001b[0m\u001b[0;34m'test'\u001b[0m\u001b[0;34m)\u001b[0m\u001b[0;34m\u001b[0m\u001b[0;34m\u001b[0m\u001b[0m\n\u001b[0m\u001b[1;32m      2\u001b[0m \u001b[0;31m#os.makedirs() method in Python is used to\u001b[0m\u001b[0;34m\u001b[0m\u001b[0;34m\u001b[0m\u001b[0;34m\u001b[0m\u001b[0m\n\u001b[1;32m      3\u001b[0m \u001b[0;31m# create a directory recursively.\u001b[0m\u001b[0;34m\u001b[0m\u001b[0;34m\u001b[0m\u001b[0;34m\u001b[0m\u001b[0m\n\u001b[1;32m      4\u001b[0m \u001b[0;31m# That means while making leaf directory if any intermediate-level\u001b[0m\u001b[0;34m\u001b[0m\u001b[0;34m\u001b[0m\u001b[0;34m\u001b[0m\u001b[0m\n\u001b[1;32m      5\u001b[0m \u001b[0;31m# directory is missing, os.makedirs() method will create them all.\u001b[0m\u001b[0;34m\u001b[0m\u001b[0;34m\u001b[0m\u001b[0;34m\u001b[0m\u001b[0m\n",
      "\u001b[0;31mFileExistsError\u001b[0m: [Errno 17] File exists: 'test'"
     ]
    }
   ],
   "metadata": {}
  },
  {
   "cell_type": "code",
   "execution_count": 16,
   "source": [
    "# lists all files and dirs\n",
    "os.listdir('..')"
   ],
   "outputs": [
    {
     "output_type": "execute_result",
     "data": {
      "text/plain": [
       "['requests_library.ipynb',\n",
       " 'eng.txt',\n",
       " '.DS_Store',\n",
       " 'food_api.ipynb',\n",
       " 'ezra_test_module.py',\n",
       " 'project_euler.py',\n",
       " 'suduku.py',\n",
       " 'api_key.json',\n",
       " 'ezra_test_module.pyc',\n",
       " '__pycache__',\n",
       " 'explore',\n",
       " 'turtle.py',\n",
       " 'env',\n",
       " 'img',\n",
       " 'Pipfile',\n",
       " '.ipynb_checkpoints',\n",
       " 'json_del.json',\n",
       " 'data',\n",
       " 'test_project.sublime-workspace',\n",
       " 'Pipfile.lock',\n",
       " 'recipie_txt']"
      ]
     },
     "metadata": {},
     "execution_count": 16
    }
   ],
   "metadata": {}
  },
  {
   "cell_type": "code",
   "execution_count": 21,
   "source": [
    "# There are different methods for removing files and dirs in python.\n",
    "\n",
    "# os.remove('test')\n",
    "# os.rmdir('test')"
   ],
   "outputs": [],
   "metadata": {}
  },
  {
   "cell_type": "code",
   "execution_count": 23,
   "source": [
    "# \n",
    "cwd = os.getcwd()\n",
    "file  = 'test.txt'\n",
    "path = os.path.join(cwd,file)\n",
    "print(path)"
   ],
   "outputs": [
    {
     "output_type": "stream",
     "name": "stdout",
     "text": [
      "/Users/ezracitron/Documents/repos/experimental_python/explore/test.txt\n"
     ]
    }
   ],
   "metadata": {}
  },
  {
   "cell_type": "code",
   "execution_count": 26,
   "source": [
    "# os.rename('os.ipynb','os_test.ipynb')"
   ],
   "outputs": [],
   "metadata": {}
  },
  {
   "cell_type": "code",
   "execution_count": 31,
   "source": [
    "os.path.exists('os.ipynb')"
   ],
   "outputs": [
    {
     "output_type": "execute_result",
     "data": {
      "text/plain": [
       "True"
      ]
     },
     "metadata": {},
     "execution_count": 31
    }
   ],
   "metadata": {}
  },
  {
   "cell_type": "code",
   "execution_count": 41,
   "source": [
    "# all the files previously started with \"explore_\"\n",
    "\n",
    "# rename_from = [file for file in os.listdir() if file.startswith('explore_')]\n",
    "# rename_to = [file.removeprefix('explore_') for file in rename_from]\n",
    "\n",
    "# for _from, _to in  zip(rename_from,rename_to): # from is a keyword\n",
    "#     os.rename(_from,_to)\n"
   ],
   "outputs": [],
   "metadata": {}
  }
 ],
 "metadata": {
  "orig_nbformat": 4,
  "language_info": {
   "name": "python",
   "version": "3.9.2",
   "mimetype": "text/x-python",
   "codemirror_mode": {
    "name": "ipython",
    "version": 3
   },
   "pygments_lexer": "ipython3",
   "nbconvert_exporter": "python",
   "file_extension": ".py"
  },
  "kernelspec": {
   "name": "python3",
   "display_name": "Python 3.9.2 64-bit ('env': venv)"
  },
  "interpreter": {
   "hash": "ea7610007a29cb2af1d210f73684a2d87c7bae2e3f27bbd8854949f1d151518b"
  }
 },
 "nbformat": 4,
 "nbformat_minor": 2
}