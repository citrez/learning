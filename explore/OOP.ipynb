{
 "cells": [
  {
   "cell_type": "markdown",
   "source": [
    "# OOP - Object-Oriented Programming\n",
    "## `Point` class\n",
    "\n",
    "We will write a class for a point in a two dimensional Euclidian space ($\\mathbb{R}^2$).\n",
    "\n",
    "We start with the class definition (`def`) and the constructor (`__init__`) which defines the creation of a new class instance.\n",
    "\n",
    "Note:\n",
    "\n",
    "* The first argument to class methods (class functions) is always `self`, a reference to the instance.\n",
    "* The other arguments to `__init__` have a default values 0.\n",
    "* We *assert* that the `__init__` arguments are numbers."
   ],
   "metadata": {}
  },
  {
   "cell_type": "code",
   "execution_count": 3,
   "source": [
    "class Point():\n",
    "    \"\"\"Holds on a point (x,y) in the plane\"\"\"\n",
    "    \n",
    "    def __init__(self, x=0, y=0):\n",
    "        assert isinstance(x, (int, float)) and isinstance(y, (int, float))\n",
    "        self.x = float(x)\n",
    "        self.y = float(y)"
   ],
   "outputs": [],
   "metadata": {}
  },
  {
   "cell_type": "code",
   "execution_count": 4,
   "source": [
    "p = Point(1,2)\n",
    "print(\"point\", p.x, p.y)\n",
    "origin = Point()\n",
    "print(\"origin\", origin.x, origin.y)"
   ],
   "outputs": [
    {
     "output_type": "stream",
     "name": "stdout",
     "text": [
      "point 1.0 2.0\n",
      "origin 0.0 0.0\n"
     ]
    }
   ],
   "metadata": {}
  },
  {
   "cell_type": "markdown",
   "source": [
    "Notice that when we send a `Point` to the console we get:"
   ],
   "metadata": {}
  },
  {
   "cell_type": "code",
   "execution_count": 5,
   "source": [
    "p"
   ],
   "outputs": [
    {
     "output_type": "execute_result",
     "data": {
      "text/plain": [
       "<__main__.Point at 0x1063f8520>"
      ]
     },
     "metadata": {},
     "execution_count": 5
    }
   ],
   "metadata": {}
  },
  {
   "cell_type": "markdown",
   "source": [
    "Which is not useful, so we will define how `Point` is represented in the console using `__repr__`. "
   ],
   "metadata": {}
  },
  {
   "cell_type": "code",
   "execution_count": 7,
   "source": [
    "class Point():\n",
    "    \"\"\"Holds on a point (x,y) in the plane\"\"\"\n",
    "    def __init__(self, x=0, y=0):\n",
    "        assert isinstance(x, (int, float)) and isinstance(y, (int, float))\n",
    "        self.x = float(x)\n",
    "        self.y = float(y)\n",
    "    \n",
    "    def __repr__(self):\n",
    "        return \"Point(\" + str(self.x) + \", \" + str(self.y) + \")\""
   ],
   "outputs": [],
   "metadata": {}
  },
  {
   "cell_type": "code",
   "execution_count": 8,
   "source": [
    "Point(1,2)"
   ],
   "outputs": [
    {
     "output_type": "execute_result",
     "data": {
      "text/plain": [
       "Point(1.0, 2.0)"
      ]
     },
     "metadata": {},
     "execution_count": 8
    }
   ],
   "metadata": {}
  },
  {
   "cell_type": "markdown",
   "source": [
    "Next up we define a method to add two points. Addition is by elements - $(x_1, y_1) + (x_2, y_2) = (x_1+x_2, y_1+y_2)$.\n",
    "\n",
    "We also allow to add an `int`, in which case we add the point to a another point with both coordinates equal to the argument value."
   ],
   "metadata": {}
  },
  {
   "cell_type": "code",
   "execution_count": 9,
   "source": [
    "class Point():\n",
    "    \"\"\"Holds on a point (x,y) in the plane\"\"\"\n",
    "    def __init__(self, x=0, y=0):\n",
    "        assert isinstance(x, (int, float)) and isinstance(y, (int, float))\n",
    "        self.x = float(x)\n",
    "        self.y = float(y)\n",
    "    def __repr__(self):\n",
    "        return \"Point(\" + str(self.x) + \", \" + str(self.y) + \")\"\n",
    "    \n",
    "    def add(self, other):\n",
    "        assert isinstance(other, (int, Point))\n",
    "        if isinstance(other, Point):\n",
    "            return Point(self.x + other.x , self.y + other.y)\n",
    "        else: # other is int, taken as (int, int)\n",
    "            return Point(self.x + other , self.y + other)"
   ],
   "outputs": [],
   "metadata": {}
  },
  {
   "cell_type": "code",
   "execution_count": 10,
   "source": [
    "Point(1,1).add(Point(2,2))"
   ],
   "outputs": [
    {
     "output_type": "execute_result",
     "data": {
      "text/plain": [
       "Point(3.0, 3.0)"
      ]
     },
     "metadata": {},
     "execution_count": 10
    }
   ],
   "metadata": {}
  },
  {
   "cell_type": "code",
   "execution_count": 11,
   "source": [
    "Point(1,1).add(2)"
   ],
   "outputs": [
    {
     "output_type": "execute_result",
     "data": {
      "text/plain": [
       "Point(3.0, 3.0)"
      ]
     },
     "metadata": {},
     "execution_count": 11
    }
   ],
   "metadata": {}
  },
  {
   "cell_type": "markdown",
   "source": [
    "A nicer way to do it is to *overload* the addition operator + by defining the addition method name to a name Python reserves for addition - `__add__` (those are double underscores):"
   ],
   "metadata": {}
  },
  {
   "cell_type": "code",
   "execution_count": 12,
   "source": [
    "class Point():\n",
    "    \"\"\"Holds on a point (x,y) in the plane\"\"\"\n",
    "    def __init__(self, x=0, y=0):\n",
    "        assert isinstance(x, (int, float)) and isinstance(y, (int, float))\n",
    "        self.x = float(x)\n",
    "        self.y = float(y)\n",
    "    def __repr__(self):\n",
    "        return \"Point(\" + str(self.x) + \", \" + str(self.y) + \")\"\n",
    "    \n",
    "    def __add__(self, other):\n",
    "        assert isinstance(other, (int, Point))\n",
    "        if isinstance(other, Point):\n",
    "            return Point(self.x + other.x , self.y + other.y)\n",
    "        else: # other is int, taken as (int, int)\n",
    "            return Point(self.x + other , self.y + other)"
   ],
   "outputs": [],
   "metadata": {}
  },
  {
   "cell_type": "code",
   "execution_count": null,
   "source": [
    "Point(1,1) + Point(2,2)"
   ],
   "outputs": [],
   "metadata": {}
  },
  {
   "cell_type": "code",
   "execution_count": 13,
   "source": [
    "Point(1,1) + 2"
   ],
   "outputs": [
    {
     "output_type": "execute_result",
     "data": {
      "text/plain": [
       "Point(3.0, 3.0)"
      ]
     },
     "metadata": {},
     "execution_count": 13
    }
   ],
   "metadata": {}
  },
  {
   "cell_type": "markdown",
   "source": [
    "We want to be a able to compare `Point`s:"
   ],
   "metadata": {}
  },
  {
   "cell_type": "code",
   "execution_count": 15,
   "source": [
    "Point(1,2) == Point(1,2)"
   ],
   "outputs": [
    {
     "output_type": "execute_result",
     "data": {
      "text/plain": [
       "False"
      ]
     },
     "metadata": {},
     "execution_count": 15
    }
   ],
   "metadata": {}
  },
  {
   "cell_type": "code",
   "execution_count": 16,
   "source": [
    "Point(1,2) > Point(2,1)"
   ],
   "outputs": [
    {
     "output_type": "error",
     "ename": "TypeError",
     "evalue": "'>' not supported between instances of 'Point' and 'Point'",
     "traceback": [
      "\u001b[0;31m---------------------------------------------------------------------------\u001b[0m",
      "\u001b[0;31mTypeError\u001b[0m                                 Traceback (most recent call last)",
      "\u001b[0;32m/var/folders/cp/qfwcp52s6m90bwtfn8dkp9zm0000gn/T/ipykernel_3902/1554687484.py\u001b[0m in \u001b[0;36m<module>\u001b[0;34m\u001b[0m\n\u001b[0;32m----> 1\u001b[0;31m \u001b[0mPoint\u001b[0m\u001b[0;34m(\u001b[0m\u001b[0;36m1\u001b[0m\u001b[0;34m,\u001b[0m\u001b[0;36m2\u001b[0m\u001b[0;34m)\u001b[0m \u001b[0;34m>\u001b[0m \u001b[0mPoint\u001b[0m\u001b[0;34m(\u001b[0m\u001b[0;36m2\u001b[0m\u001b[0;34m,\u001b[0m\u001b[0;36m1\u001b[0m\u001b[0;34m)\u001b[0m\u001b[0;34m\u001b[0m\u001b[0;34m\u001b[0m\u001b[0m\n\u001b[0m",
      "\u001b[0;31mTypeError\u001b[0m: '>' not supported between instances of 'Point' and 'Point'"
     ]
    }
   ],
   "metadata": {}
  },
  {
   "cell_type": "markdown",
   "source": [
    "So `==` checks by identity and `>` is not defined. Let us overload both these operators:"
   ],
   "metadata": {}
  },
  {
   "cell_type": "code",
   "execution_count": 17,
   "source": [
    "class Point():\n",
    "    \"\"\"Holds on a point (x,y) in the plane\"\"\"\n",
    "    def __init__(self, x=0, y=0):\n",
    "        assert isinstance(x, (int, float)) and isinstance(y, (int, float))\n",
    "        self.x = float(x)\n",
    "        self.y = float(y)\n",
    "    def __repr__(self):\n",
    "        return \"Point(\" + str(self.x) + \", \" + str(self.y) + \")\"\n",
    "    def __add__(self, other):\n",
    "        assert isinstance(other, (int, Point))\n",
    "        if isinstance(other, Point):\n",
    "            return Point(self.x + other.x , self.y + other.y)\n",
    "        else: # other is int, taken as (int, int)\n",
    "            return Point(self.x + other , self.y + other)\n",
    "    \n",
    "    def __eq__(self, other):\n",
    "        return (self.x, self.y) == (other.x, other.y)\n",
    "    \n",
    "    def __gt__(self, other):\n",
    "        return (self.x > other.x and self.y > other.y)"
   ],
   "outputs": [],
   "metadata": {}
  },
  {
   "cell_type": "markdown",
   "source": [
    "The addition operator + returns a **new instance**. \n",
    "\n",
    "Next we will write a method that instead of returning a new instance, changes the current instance:"
   ],
   "metadata": {}
  },
  {
   "cell_type": "code",
   "execution_count": 18,
   "source": [
    "class Point():\n",
    "    \"\"\"Holds on a point (x,y) in the plane\"\"\"\n",
    "    def __init__(self, x=0, y=0):\n",
    "        assert isinstance(x, (int, float)) and isinstance(y, (int, float))\n",
    "        self.x = float(x)\n",
    "        self.y = float(y)\n",
    "    def __repr__(self):\n",
    "        return \"Point(\" + str(self.x) + \", \" + str(self.y) + \")\"\n",
    "    def __eq__(self, other):\n",
    "        return (self.x, self.y) == (other.x, other.y)\n",
    "    def __gt__(self, other):\n",
    "        return (self.x > other.x and self.y > other.y)\n",
    "    def __add__(self, other):\n",
    "        assert isinstance(other, (int, Point))\n",
    "        if isinstance(other, Point):\n",
    "            return Point(self.x + other.x , self.y + other.y)\n",
    "        else: # other is int, taken as (int, int)\n",
    "            return Point(self.x + other , self.y + other)\n",
    "    \n",
    "    def increment(self, other): \n",
    "        '''this method changes self (add \"inplace\")'''\n",
    "        assert isinstance(other,Point)\n",
    "        self.x += other.x\n",
    "        self.y += other.y"
   ],
   "outputs": [],
   "metadata": {}
  },
  {
   "cell_type": "code",
   "execution_count": 19,
   "source": [
    "p = Point(6.5, 7)\n",
    "p + Point(1,2)\n",
    "print(p)\n",
    "p.increment(Point(1,2))\n",
    "print(p)"
   ],
   "outputs": [
    {
     "output_type": "stream",
     "name": "stdout",
     "text": [
      "Point(6.5, 7.0)\n",
      "Point(7.5, 9.0)\n"
     ]
    }
   ],
   "metadata": {}
  },
  {
   "cell_type": "markdown",
   "source": [
    "We now write a method that given many points, checks if the current point is more extreme than the other points.\n",
    "\n",
    "Note that the argument `*points` means that more than one argument may be given."
   ],
   "metadata": {}
  },
  {
   "cell_type": "code",
   "execution_count": 20,
   "source": [
    "class Point():\n",
    "    \"\"\"Holds on a point (x,y) in the plane\"\"\"\n",
    "    def __init__(self, x=0, y=0):\n",
    "        assert isinstance(x, (int, float)) and isinstance(y, (int, float))\n",
    "        self.x = float(x)\n",
    "        self.y = float(y)\n",
    "    def __repr__(self):\n",
    "        return \"Point(\" + str(self.x) + \", \" + str(self.y) + \")\"\n",
    "    def __eq__(self, other):\n",
    "        return (self.x, self.y) == (other.x, other.y)\n",
    "    def __lt__(self, other):\n",
    "        return (self.x < other.x and self.y < other.y)\n",
    "    def __add__(self, other):\n",
    "        assert isinstance(other, (int, Point))\n",
    "        if isinstance(other, Point):\n",
    "            return Point(self.x + other.x , self.y + other.y)\n",
    "        else: # other is int, taken as (int, int)\n",
    "            return Point(self.x + other , self.y + other)\n",
    "    def increment(self, other): \n",
    "        '''this method changes self (add \"inplace\")'''\n",
    "        assert isinstance(other,Point)\n",
    "        self.x += other.x\n",
    "        self.y += other.y\n",
    "    \n",
    "    def is_extreme(self, *points):\n",
    "        for point in points:\n",
    "            if not self > point:\n",
    "                return False\n",
    "        return True"
   ],
   "outputs": [],
   "metadata": {}
  },
  {
   "cell_type": "code",
   "execution_count": 21,
   "source": [
    "p = Point(5, 6)\n",
    "p.is_extreme(Point(1,1))"
   ],
   "outputs": [
    {
     "output_type": "execute_result",
     "data": {
      "text/plain": [
       "True"
      ]
     },
     "metadata": {},
     "execution_count": 21
    }
   ],
   "metadata": {}
  },
  {
   "cell_type": "code",
   "execution_count": 22,
   "source": [
    "p.is_extreme(Point(1,1), Point(2,5), Point(6,2))"
   ],
   "outputs": [
    {
     "output_type": "execute_result",
     "data": {
      "text/plain": [
       "False"
      ]
     },
     "metadata": {},
     "execution_count": 22
    }
   ],
   "metadata": {}
  },
  {
   "cell_type": "markdown",
   "source": [
    "We can also use the method via the class instead of the instance, and give the instance of interest (the one that we want to know if it is the extreme) as the first argument `self`. Much like this, we can either do `'hi'.upper()` or `str.upper('hi')`."
   ],
   "metadata": {}
  },
  {
   "cell_type": "code",
   "execution_count": 25,
   "source": [
    "Point.is_extreme(p,Point(1,1), Point(2,5), Point(4,2))"
   ],
   "outputs": [
    {
     "output_type": "execute_result",
     "data": {
      "text/plain": [
       "True"
      ]
     },
     "metadata": {},
     "execution_count": 25
    }
   ],
   "metadata": {}
  }
 ],
 "metadata": {
  "kernelspec": {
   "display_name": "Python 3",
   "language": "python",
   "name": "python3"
  },
  "language_info": {
   "codemirror_mode": {
    "name": "ipython",
    "version": 3
   },
   "file_extension": ".py",
   "mimetype": "text/x-python",
   "name": "python",
   "nbconvert_exporter": "python",
   "pygments_lexer": "ipython3",
   "version": "3.8.8"
  }
 },
 "nbformat": 4,
 "nbformat_minor": 5
}