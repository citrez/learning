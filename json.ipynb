{
 "cells": [
  {
   "cell_type": "markdown",
   "id": "0b62726b",
   "metadata": {},
   "source": [
    "## JSON \n",
    "#### JavaScript Object Notation\n",
    "Json is a string that contains data. We can convert between python data types (like a dict) to a json object, this is known as serialisation. We can also convert a json object into a python object, like a dictonary. This is known as deserialisation"
   ]
  },
  {
   "cell_type": "code",
   "execution_count": 1,
   "id": "5cef5738",
   "metadata": {},
   "outputs": [],
   "source": [
    "import json"
   ]
  },
  {
   "cell_type": "code",
   "execution_count": 2,
   "id": "f69a06be",
   "metadata": {},
   "outputs": [],
   "source": [
    "person = {'name':'Ezra','age':25,\"location\":'England','Male':True}"
   ]
  },
  {
   "cell_type": "code",
   "execution_count": 3,
   "id": "35b3881b",
   "metadata": {},
   "outputs": [
    {
     "name": "stdout",
     "output_type": "stream",
     "text": [
      "{\n",
      "    \"name\":\"Ezra\",\n",
      "    \"age\":25,\n",
      "    \"location\":\"England\",\n",
      "    \"Male\":true\n",
      "}\n"
     ]
    }
   ],
   "source": [
    "personJSON= json.dumps(person,indent=4,separators=(',',':')) # json is just a string\n",
    "print(personJSON) # json is a string and the data types are Javascript types. "
   ]
  },
  {
   "cell_type": "markdown",
   "id": "0d900a52",
   "metadata": {},
   "source": [
    "##### We can write to files"
   ]
  },
  {
   "cell_type": "code",
   "execution_count": 4,
   "id": "d15e06ca",
   "metadata": {},
   "outputs": [],
   "source": [
    "with open('json_del.json','w') as f:\n",
    "    json.dump(person,f,indent=4) #notice that when we want to write to file it is dump not dumps"
   ]
  },
  {
   "cell_type": "code",
   "execution_count": 35,
   "id": "a5b45e12",
   "metadata": {},
   "outputs": [
    {
     "name": "stdout",
     "output_type": "stream",
     "text": [
      "{\n",
      "    \"name\": \"Ezra\",\n",
      "    \"age\": 25,\n",
      "    \"location\": \"England\",\n",
      "    \"Male\": true\n",
      "}\n"
     ]
    }
   ],
   "source": [
    "with open('json_del.json') as f:\n",
    "    print(f.read())"
   ]
  },
  {
   "cell_type": "markdown",
   "id": "893a006b",
   "metadata": {},
   "source": [
    "##### Read from json string (in python)"
   ]
  },
  {
   "cell_type": "code",
   "execution_count": 42,
   "id": "2a0be949",
   "metadata": {},
   "outputs": [
    {
     "data": {
      "text/plain": [
       "{'name': 'Ezra', 'age': 25, 'location': 'England', 'Male': True}"
      ]
     },
     "execution_count": 42,
     "metadata": {},
     "output_type": "execute_result"
    }
   ],
   "source": [
    "json.loads(personJSON)"
   ]
  },
  {
   "cell_type": "markdown",
   "id": "3436ccc6",
   "metadata": {},
   "source": [
    "##### Read from a JSON file"
   ]
  },
  {
   "cell_type": "code",
   "execution_count": 41,
   "id": "cc65ccec",
   "metadata": {},
   "outputs": [
    {
     "name": "stdout",
     "output_type": "stream",
     "text": [
      "<class 'dict'>\n",
      "{'name': 'Ezra', 'age': 25, 'location': 'England', 'Male': True}\n"
     ]
    }
   ],
   "source": [
    "with open('json_del.json','r') as f:\n",
    "    person = json.load(f)\n",
    "    print(type(person))\n",
    "    print(person)\n",
    "   "
   ]
  },
  {
   "cell_type": "markdown",
   "id": "4e115a6d",
   "metadata": {},
   "source": [
    "If you make custom classes you can make custom methods to encode and decode into json objects"
   ]
  }
 ],
 "metadata": {
  "kernelspec": {
   "display_name": "Python 3",
   "language": "python",
   "name": "python3"
  },
  "language_info": {
   "codemirror_mode": {
    "name": "ipython",
    "version": 3
   },
   "file_extension": ".py",
   "mimetype": "text/x-python",
   "name": "python",
   "nbconvert_exporter": "python",
   "pygments_lexer": "ipython3",
   "version": "3.8.8"
  }
 },
 "nbformat": 4,
 "nbformat_minor": 5
}
